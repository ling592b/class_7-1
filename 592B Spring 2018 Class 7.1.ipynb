{
 "cells": [
  {
   "cell_type": "code",
   "execution_count": 2,
   "metadata": {
    "collapsed": true
   },
   "outputs": [],
   "source": [
    "%matplotlib inline"
   ]
  },
  {
   "cell_type": "markdown",
   "metadata": {},
   "source": [
    "# 592B, Class 7.1 (03/06).  The Fourier Transform in Action, Part II"
   ]
  },
  {
   "cell_type": "code",
   "execution_count": 3,
   "metadata": {
    "collapsed": true
   },
   "outputs": [],
   "source": [
    "import numpy as np\n",
    "import matplotlib.pyplot as plt\n",
    "import librosa\n",
    "from scipy import fftpack #new\n",
    "\n",
    "from ipywidgets import interactive\n",
    "from IPython.display import Audio, display"
   ]
  },
  {
   "cell_type": "markdown",
   "metadata": {},
   "source": [
    "## Review questions\n",
    "\n",
    "- Why is the computation of the spectrum affected by the \"window length\" over which it is computed, and how is it affected?\n",
    "- Why do you get negative frequencies when you do a Fourier Transform?\n",
    "- Why and how does the choice of \"window\" over the waveform affect how \"wide\" peaks in the spectrum are?\n",
    "\n",
    "---\n",
    "\n",
    "## Intro\n",
    "\n",
    "Last time we ended up with the Fourier series of $g(t)$ defined as $T \\rightarrow \\infty$, expressed as a double integral:\n",
    "\n",
    "\\begin{equation}\n",
    "g(t) = \\int_{-\\infty}^{\\infty} \\int_{-\\infty}^{\\infty}e^{-2\\pi ift}g(t)dt e^{2\\pi ift}df\n",
    "\\end{equation}\n",
    "\n",
    "and then we derived $\\mathcal{F}g$, where $\\mathcal{F}g$ is defined as the Fourier transform of a function $g(t)$:\n",
    "\n",
    "\\begin{equation}\n",
    "\\mathcal{F}g = \\int_{-\\infty}^{\\infty}e^{-2\\pi ift} g(t)dt      \n",
    "\\end{equation}\n",
    "\n",
    "and the inverse Fourier transform $\\mathcal{F}^{-1}(t)$ of a function $\\mathcal{F}g(f)$ is: \n",
    "\n",
    "\\begin{equation}\n",
    "g(t) = \\int_{-\\infty}^{\\infty}e^{2\\pi ift} \\mathcal{F}gdf      \n",
    "\\end{equation}\n",
    "\n",
    "Then we briefly introduced the **discrete Fourier transform (DFT)**: this is what we use when we're computing the Fourier Transform in python because we are working with *digital* signals. \n",
    "\n",
    "\n",
    "\n",
    "\n",
    "\n",
    "---"
   ]
  },
  {
   "cell_type": "markdown",
   "metadata": {},
   "source": [
    "## The Discrete Fourier Transform\n",
    "\n",
    "Today we're going to work on understanding the DFT a little more, because it will help us understand what's going on when we invoke `fftpack.fft` and have a deeper understanding of the answers to the review questions above. The derivation here follows Osgood Chapter 6.\n",
    "\n",
    "Our goal is to find a discrete version of $\\mathcal{F}g(f)$, the Fourier transform of a function $g(t)$. (Note: by writing $\\mathcal{F}g(f)$, we mean that the function $\\mathcal{F}g$, the Fourier transform of $g(t)$, is a function of frequency, $f$. We start with $g(t)$, which is a function of time $t$, but once we take the Fourier transform of $g(t)$, $\\mathcal{F}g$, we have a function of frequency $f$.). \n",
    "\n",
    "To do this, we need to find three things:\n",
    "- A discrete version of $g(t)$ that reasonably approximates $g(t)$\n",
    "- A discrete version of $\\mathcal{F}g(f)$ that reasonably approximates $\\mathcal{F}g(f)$\n",
    "- A way in which these two discrete versions are related, which approximates the relation between the continuous versions\n",
    "\n",
    "We start by assuming that $g(t)$ is:\n",
    "- *time-limited*, meaning that $g(t)$ is zero outside of $0\\leq t \\leq L$, where $L$ is the length of the signal (in time)\n",
    "- *band-limited*, meaning that $\\mathcal{F}g(f)$ vanishes outside of $0 \\lt f \\lt 2B$, where $B$ is the *bandwith* of the signal.\n",
    "\n",
    "\n",
    "By the Sampling Theorem, if we sample $g(t)$ at the Nyquist rate of $2B$ samples/second, we can reconstruct $g(t)$ perfectly. This sampled version of $g(t)$, call it $g_{discrete}(t)$, is just a list of $N$ sampled values:\n",
    "\n",
    "$$ g(t_0), g(t_1), \\ldots, g(t_{N-1}) $$,\n",
    "\n",
    "where $N=2BL$ and the timepoints are evenly spaced apart by $\\frac{1}{2B}$.\n",
    "\n",
    "***In-class exercise: Why is $N=2BL$ and why does $\\Delta t_n = \\frac{1}{2B}$?***\n",
    "\n",
    "---\n"
   ]
  },
  {
   "cell_type": "markdown",
   "metadata": {},
   "source": [
    "### The Dirac comb\n",
    "\n",
    "We can re-express $g_{discrete}(t)$ using the Dirac comb $III(t)$, defined as:\n",
    "\n",
    "$$III(t) = \\displaystyle\\sum_{n=0}^{N-1} \\delta(t-t_n) $$\n",
    "\n",
    "All this is is a \"train\" of pulses, a comb of \"lollipops\" with amplitude 1, where the pulses occur exactly at the sampled points $t_0, t_1, \\ldots, t_{N-1}$.\n",
    "\n",
    "Here's an image of a Dirac comb from Wikipedia. In our case, $T = 1/2B$.\n",
    "\n",
    "<img alt = \"Dirac comb plot\" src=\"https://upload.wikimedia.org/wikipedia/commons/4/49/Dirac_comb.svg\" width=\"300\"  />\n",
    "\n",
    "\n",
    "And here's an example of [one way to define a Dirac comb function](https://scipython.com/book/chapter-6-numpy/examples/a-comb-function/), from [scipython.com](https://scipython.com).\n"
   ]
  },
  {
   "cell_type": "code",
   "execution_count": 4,
   "metadata": {},
   "outputs": [
    {
     "name": "stdout",
     "output_type": "stream",
     "text": [
      "[1 0 0 0 0 1 0 0 0 0 1 0 0 0 0 1 0 0 0 0 1 0 0 0 0 1 0 0 0 0 1 0 0 0 0 1 0\n",
      " 0 0 0 1 0 0 0 0 1 0 0 0 0 1 0 0 0 0 1 0 0 0 0 1 0 0 0 0 1 0 0 0 0 1 0 0 0\n",
      " 0 1 0 0 0 0 1 0 0 0 0 1 0 0 0 0 1 0 0 0 0 1 0 0 0 0 1]\n"
     ]
    }
   ],
   "source": [
    "N, n = 101, 5\n",
    "def f(i):\n",
    "    return (i % n == 0) * 1\n",
    "\n",
    "comb = np.fromfunction(f, (N,), dtype=int)\n",
    "print(comb)\n"
   ]
  },
  {
   "cell_type": "markdown",
   "metadata": {},
   "source": [
    "***In-class discussion: Does the Dirac comb form an orthogonal basis set?***"
   ]
  },
  {
   "cell_type": "markdown",
   "metadata": {},
   "source": [
    "---\n",
    "\n",
    "Using $III(t)$, we can now express $g_{discrete}(t)$ as:\n",
    "\n",
    "$$g_{discrete}(t) = g(t) \\displaystyle\\sum_{n=0}^{N-1} \\delta(t-t_n) = \\displaystyle\\sum_{n=0}^{N-1} g(t) \\delta(t-t_n) $$\n",
    "\n",
    "And the Fourier transform of $g_{discrete}(t)$ is:\n",
    "\n",
    "\\begin{equation}\n",
    "\\mathcal{F}g_{discrete}(f) = \\displaystyle\\sum_{n=0}^{N-1} = \\mathcal{F}g(t_n) \\delta(t-t_n) = \\displaystyle\\sum_{n=0}^{N-1} g(t_n) e^{-2\\pi ift_n}      \n",
    "\\end{equation}\n",
    "\n",
    "This gives us the continuous Fourier transform of the sampled version of $g(t)$.\n",
    "\n",
    "Now let's think about $g(t)$ in the frequency domain. Remember by assumption that $g(t)$ is time-limited so $g(t)$ is zero outside of $0\\leq t \\leq L$, where $L$ is the length of the signal (in time). So we can apply the Sampling Theorem to reconstruct $\\mathcal{F}g(f)$ in the frequency domain. The sampling rate we need (the Nyquist rate) for perfect reconstruction is $L$ samples/Hz and the spacing between sampling points is $1/L$.\n",
    "\n",
    "Since $\\mathcal{F}g(f)$ is band-limited by assumption and  vanishes outside of $0 \\lt f \\lt 2B$, we sample $\\mathcal{F}g(f)$ over $0 \\lt f \\lt 2B$, with points $1/L$ Hz apart. \n",
    "\n",
    "---\n",
    "\n",
    "***In-class exercise: Why is the sampling rate $L$ samples/Hz and why is the interval between sampling points $1/L$ Hz? What is the total number of sampling points, $N$***\n",
    "\n",
    "---\n",
    "\n",
    "This sampled version of $\\mathcal{F}g(f)$, call it $\\mathcal{F}g_{discrete}(f)$, is just a list of $N$ sampled values:\n",
    "\n",
    "$$ f_0=0,\\, f_1 = \\frac{1}{L},\\, \\ldots, f_{N-1} = \\frac{N-1}{L} $$,\n",
    "\n",
    "And if we want the discrete version of $g_{discrete}(t)$, then we want to take $[\\mathcal{F}(g_{discrete})](f)$, call this $F(f)$ for short.\n",
    "\n",
    "Taking our definition of the Fourier transform of $g_{discrete}(t)$,\n",
    "\n",
    "$$\\mathcal{F}g(t_n) \\delta(t-t_n) = \\displaystyle\\sum_{n=0}^{N-1} g(t_n) e^{-2\\pi ift_n}$$\n",
    "\n",
    "this will give us the list:\n",
    "\n",
    "$$ F(f_0) = \\displaystyle\\sum_{n=0}^{N-1} g(t_n) e^{-2\\pi if_0t_n}, \\ldots, F(f_{N-1})=\\displaystyle\\sum_{n=0}^{N-1} g(t_n) e^{-2\\pi if_{N-1}t_n}  $$\n",
    "\n",
    "And so now we have a way to go from $g_{discrete}(t)$ to $\\mathcal{F}g_{discrete}(f)$:\n",
    "\n",
    "$$F(f_m) = \\displaystyle\\sum_{n=0}^{N-1} g(t_n) e^{-2\\pi if_mt_n} $$\n",
    "\n",
    "Recalling that $t_n = \\frac{n}{2B}$ and $f_m = \\frac{m}{L}$ and $N=2BL$, we can re-write this as:\n",
    "\n",
    "$$F(f_m) = \\displaystyle\\sum_{n=0}^{N-1} g(t_n) e^{-2\\pi inm/N} $$\n",
    "\n",
    "***In-class exercise: derive our final expression of $F(f_m)$.***\n",
    "\n",
    "---\n",
    "\n",
    "At this point, let's come back to one of our starting questions and discuss. You should have more insight on this now! What is the \"grid\" spacing in the time-domain? The frequency domain? How are they related? \n",
    "\n",
    "> Why is the computation of the spectrum affected by the \"window length\" over which it is computed, and how is it affected?\n",
    "\n",
    "---"
   ]
  },
  {
   "cell_type": "markdown",
   "metadata": {},
   "source": [
    "## Positive and negative frequencies (Osgood 2010, p. 260)\n",
    "\n",
    "Given our discrete Fourier transform $[\\mathcal{F}(g_{discrete})](f)$, call this $F(f)$:\n",
    "\n",
    "$$F(f_m) = \\displaystyle\\sum_{n=0}^{N-1} g(t_n) e^{-2\\pi inm/N} $$\n",
    "\n",
    "it turns out that the spectrum *splits* at $N/2$. See Osgood (2010) for the derivation, but due to some periodicity relations:\n",
    "\n",
    "$$ F[\\frac{N}{2} + 1] = \\overline{F[\\frac{N}{2} - 1]}$$ \n",
    "$$ F[\\frac{N}{2} + 2] = \\overline{F[\\frac{N}{2} - 2]}$$ \n",
    "$$ \\vdots$$\n",
    "\n",
    "***In-class exercise: What is F[0]? What do the periodicity relations mean geometrically?***\n",
    "\n",
    "So because of this, the convention is to say, for a spectrum indexed from 0 to $N-1$:\n",
    "- The frequencies from $m=1$ to $m= N/2-1$ are the \"positive\" frequencies\n",
    "- The frequencies from $m=N/2+1$ to $m= N-1$ are the \"negative\" frequencies\n",
    "\n",
    "For a real signal, all the information you need is in the positive frequencies and the first component $F[0]$.\n",
    "\n"
   ]
  },
  {
   "cell_type": "markdown",
   "metadata": {},
   "source": [
    "## Spectral leakage\n",
    "\n",
    "Do the exercises I found [here](https://www.gaussianwaves.com/2011/01/fft-and-spectral-leakage-2/). Note that the code is in Matlab; you'll need to port to Python and modify as necessary.\n",
    "\n",
    "---\n",
    "\n"
   ]
  },
  {
   "cell_type": "markdown",
   "metadata": {},
   "source": [
    "## (Stuff below this section: For reference only: review) The Fourier Transform in action: a first look\n",
    "\n",
    "Remember this function?\n",
    "\n",
    "$$y(t) = \\cos \\left(\\frac{9\\pi}{2}t\\right ) $$\n",
    "\n",
    "We worked with it when we were studying aliasing. Let's sample it at 20 Hz, for a duration of 20 seconds."
   ]
  },
  {
   "cell_type": "code",
   "execution_count": 24,
   "metadata": {},
   "outputs": [
    {
     "data": {
      "text/plain": [
       "Text(0.5,1,'A familiar signal')"
      ]
     },
     "execution_count": 24,
     "metadata": {},
     "output_type": "execute_result"
    },
    {
     "data": {
      "image/png": "[encoded data removed]",
      "text/plain": [
       "<matplotlib.figure.Figure at 0x1c1d4ac438>"
      ]
     },
     "metadata": {},
     "output_type": "display_data"
    }
   ],
   "source": [
    "fs = 20 # Sampling rate of 20 Hz\n",
    "t_start = 0; t_stop = 20\n",
    "ns = int((t_stop - t_start) * fs)\n",
    "#t = np.linspace(t_start,t_stop,ns)\n",
    "t = np.linspace(t_start,t_stop,ns, endpoint=False)\n",
    "x = np.cos(9/2*np.pi*t)\n",
    "\n",
    "fig, ax = plt.subplots()\n",
    "ax.plot(t, x)\n",
    "ax.set_xlabel('Time [s]')\n",
    "ax.set_ylabel('Signal amplitude')\n",
    "plt.xlim(0,10)\n",
    "plt.title(\"A familiar signal\")"
   ]
  },
  {
   "cell_type": "markdown",
   "metadata": {},
   "source": [
    "Now let's take the Fourier Transform of the signal!"
   ]
  },
  {
   "cell_type": "code",
   "execution_count": 25,
   "metadata": {},
   "outputs": [
    {
     "data": {
      "text/plain": [
       "Text(0,0.5,'Fourier transform of signal')"
      ]
     },
     "execution_count": 25,
     "metadata": {},
     "output_type": "execute_result"
    },
    {
     "data": {
      "image/png": "[encoded data removed]",
      "text/plain": [
       "<matplotlib.figure.Figure at 0x1c1d661ac8>"
      ]
     },
     "metadata": {},
     "output_type": "display_data"
    }
   ],
   "source": [
    "X = fftpack.fft(x)\n",
    "freqs = fftpack.fftfreq(len(x)) * fs\n",
    "\n",
    "fig, ax = plt.subplots()\n",
    "\n",
    "ax.stem(freqs, np.abs(X))\n",
    "ax.set_xlabel('Frequency in Hertz [Hz]')\n",
    "ax.set_ylabel('Magnitude')\n",
    "ax.set_xlim(-fs/2, fs/2)\n",
    "#ax.set_xlim(-3.5, 3.5)\n",
    "ax.set_ylim(-5, 220)\n",
    "ax.set_ylabel('Fourier transform of signal')"
   ]
  },
  {
   "cell_type": "markdown",
   "metadata": {},
   "source": [
    "We end up with non-zero values at only -2.25 and 2.25 Hz. At the moment, let's not worry about why we also get negative frequencies. \n",
    "\n",
    "---\n",
    "***Discussion: why set the x-axis limits as [-fs/2,fs/2]?***\n",
    "\n",
    "***Discussion: does it make sense that we're getting a peak at 2.25 Hz?***\n",
    "\n",
    "---"
   ]
  },
  {
   "cell_type": "markdown",
   "metadata": {},
   "source": [
    "***In-class exercise: what happens to the computed spectrum if you delete `endpoint=False` in the np.linspace command? Why? ***\n",
    "\n",
    "---"
   ]
  },
  {
   "cell_type": "markdown",
   "metadata": {},
   "source": [
    "***In-class exercise: repeat what we did above for the signal sampled at 1 Hz. What happens and why?***\n",
    "\n",
    "---"
   ]
  },
  {
   "cell_type": "markdown",
   "metadata": {},
   "source": [
    "### Again, a bit more slowly...\n",
    "\n",
    "Let's walk through this step-by-step. Now let's define a complex wave with two components."
   ]
  },
  {
   "cell_type": "code",
   "execution_count": 31,
   "metadata": {
    "collapsed": true
   },
   "outputs": [],
   "source": [
    "fs = 100\n",
    "t_stop = 10\n",
    "t = np.linspace(0,t_stop, t_stop*fs, endpoint=False)\n",
    "f1 = 5; f2= 2\n",
    "x = 0.1 * np.sin(2 * np.pi * f1 * t) + 1* np.sin(2 * np.pi * f2 * t) + 50"
   ]
  },
  {
   "cell_type": "markdown",
   "metadata": {},
   "source": [
    "Let's take the Fourier Transform and inspect the values we get."
   ]
  },
  {
   "cell_type": "code",
   "execution_count": 32,
   "metadata": {},
   "outputs": [
    {
     "name": "stdout",
     "output_type": "stream",
     "text": [
      "[  5.00000000e+04 +0.00000000e+00j   4.60893380e-15 -2.36665775e-14j\n",
      "   1.51412688e-15 -1.59305336e-14j  -3.81791324e-14 -7.69581846e-15j\n",
      "  -1.74958339e-14 +3.47472889e-14j]\n",
      "1000\n"
     ]
    },
    {
     "name": "stderr",
     "output_type": "stream",
     "text": [
      "/Users/oxbow/anaconda3/lib/python3.6/site-packages/numpy/core/numeric.py:531: ComplexWarning: Casting complex values to real discards the imaginary part\n",
      "  return array(a, dtype, copy=False, order=order)\n"
     ]
    },
    {
     "data": {
      "text/plain": [
       "<Container object of 3 artists>"
      ]
     },
     "execution_count": 32,
     "metadata": {},
     "output_type": "execute_result"
    },
    {
     "data": {
      "image/png": "[encoded data removed]",
      "text/plain": [
       "<matplotlib.figure.Figure at 0x1c1e9e8ba8>"
      ]
     },
     "metadata": {},
     "output_type": "display_data"
    }
   ],
   "source": [
    "X = fftpack.fft(x)\n",
    "\n",
    "print(X[0:5])\n",
    "print(len(X))\n",
    "\n",
    "plt.stem(X)"
   ]
  },
  {
   "cell_type": "markdown",
   "metadata": {},
   "source": [
    "Aha! We are getting **complex** values! \n",
    "\n",
    "What we actually plot in the spectrum turns out to be the size of a complex number, its **modulus**, defined as:\n",
    "\n",
    "$$Mod(a+bi) = \\sqrt{a^2+b^2}$$"
   ]
  },
  {
   "cell_type": "markdown",
   "metadata": {},
   "source": [
    "In python, we can work with complex numbers as follows:"
   ]
  },
  {
   "cell_type": "code",
   "execution_count": 28,
   "metadata": {},
   "outputs": [
    {
     "name": "stdout",
     "output_type": "stream",
     "text": [
      "(3+4j)\n",
      "3.0\n",
      "4.0\n",
      "5.0\n"
     ]
    }
   ],
   "source": [
    "c = complex(3,4) # syntax: complex(a,b) for defining a+bi\n",
    "print(c)\n",
    "print(c.real) # the real component, a\n",
    "print(c.imag) # the imaginary component, b\n",
    "print(np.abs(c)) # the modulus"
   ]
  },
  {
   "cell_type": "markdown",
   "metadata": {},
   "source": [
    "So let's try plotting the Fourier transform again, this time plotting the modulus."
   ]
  },
  {
   "cell_type": "code",
   "execution_count": 33,
   "metadata": {},
   "outputs": [
    {
     "name": "stdout",
     "output_type": "stream",
     "text": [
      "[  5.00000000e+04   2.41111833e-14   1.60023274e-14   3.89470380e-14\n",
      "   3.89034483e-14]\n"
     ]
    },
    {
     "data": {
      "text/plain": [
       "<Container object of 3 artists>"
      ]
     },
     "execution_count": 33,
     "metadata": {},
     "output_type": "execute_result"
    },
    {
     "data": {
      "image/png": "[encoded data removed]",
      "text/plain": [
       "<matplotlib.figure.Figure at 0x1c1e9e8b38>"
      ]
     },
     "metadata": {},
     "output_type": "display_data"
    }
   ],
   "source": [
    "print(np.abs(X[0:5]))\n",
    "plt.stem(np.abs(X))"
   ]
  },
  {
   "cell_type": "markdown",
   "metadata": {},
   "source": [
    "But there are still some problems. First the x-axis is in terms of points. We have 1000 points, so we get an x-axis going up to 1000. How do we get this in terms of frequency? We need to set the x-axis to go from [$-f_{Nyquist}, f_{Nyquist}$], $\\Delta f_s$ apart. This is where `fftpack.fftfreq` comes in. \n",
    "\n",
    "***Discussion: What do you notice about the array `freqs`? How long is it? What numbers does it range over? How far are the numbers apart?***\n"
   ]
  },
  {
   "cell_type": "code",
   "execution_count": 37,
   "metadata": {},
   "outputs": [
    {
     "name": "stdout",
     "output_type": "stream",
     "text": [
      "[  0.    0.1   0.2   0.3   0.4   0.5   0.6   0.7   0.8   0.9   1.    1.1\n",
      "   1.2   1.3   1.4   1.5   1.6   1.7   1.8   1.9   2.    2.1   2.2   2.3\n",
      "   2.4   2.5   2.6   2.7   2.8   2.9   3.    3.1   3.2   3.3   3.4   3.5\n",
      "   3.6   3.7   3.8   3.9   4.    4.1   4.2   4.3   4.4   4.5   4.6   4.7\n",
      "   4.8   4.9   5.    5.1   5.2   5.3   5.4   5.5   5.6   5.7   5.8   5.9\n",
      "   6.    6.1   6.2   6.3   6.4   6.5   6.6   6.7   6.8   6.9   7.    7.1\n",
      "   7.2   7.3   7.4   7.5   7.6   7.7   7.8   7.9   8.    8.1   8.2   8.3\n",
      "   8.4   8.5   8.6   8.7   8.8   8.9   9.    9.1   9.2   9.3   9.4   9.5\n",
      "   9.6   9.7   9.8   9.9  10.   10.1  10.2  10.3  10.4  10.5  10.6  10.7\n",
      "  10.8  10.9  11.   11.1  11.2  11.3  11.4  11.5  11.6  11.7  11.8  11.9\n",
      "  12.   12.1  12.2  12.3  12.4  12.5  12.6  12.7  12.8  12.9  13.   13.1\n",
      "  13.2  13.3  13.4  13.5  13.6  13.7  13.8  13.9  14.   14.1  14.2  14.3\n",
      "  14.4  14.5  14.6  14.7  14.8  14.9  15.   15.1  15.2  15.3  15.4  15.5\n",
      "  15.6  15.7  15.8  15.9  16.   16.1  16.2  16.3  16.4  16.5  16.6  16.7\n",
      "  16.8  16.9  17.   17.1  17.2  17.3  17.4  17.5  17.6  17.7  17.8  17.9\n",
      "  18.   18.1  18.2  18.3  18.4  18.5  18.6  18.7  18.8  18.9  19.   19.1\n",
      "  19.2  19.3  19.4  19.5  19.6  19.7  19.8  19.9  20.   20.1  20.2  20.3\n",
      "  20.4  20.5  20.6  20.7  20.8  20.9  21.   21.1  21.2  21.3  21.4  21.5\n",
      "  21.6  21.7  21.8  21.9  22.   22.1  22.2  22.3  22.4  22.5  22.6  22.7\n",
      "  22.8  22.9  23.   23.1  23.2  23.3  23.4  23.5  23.6  23.7  23.8  23.9\n",
      "  24.   24.1  24.2  24.3  24.4  24.5  24.6  24.7  24.8  24.9  25.   25.1\n",
      "  25.2  25.3  25.4  25.5  25.6  25.7  25.8  25.9  26.   26.1  26.2  26.3\n",
      "  26.4  26.5  26.6  26.7  26.8  26.9  27.   27.1  27.2  27.3  27.4  27.5\n",
      "  27.6  27.7  27.8  27.9  28.   28.1  28.2  28.3  28.4  28.5  28.6  28.7\n",
      "  28.8  28.9  29.   29.1  29.2  29.3  29.4  29.5  29.6  29.7  29.8  29.9\n",
      "  30.   30.1  30.2  30.3  30.4  30.5  30.6  30.7  30.8  30.9  31.   31.1\n",
      "  31.2  31.3  31.4  31.5  31.6  31.7  31.8  31.9  32.   32.1  32.2  32.3\n",
      "  32.4  32.5  32.6  32.7  32.8  32.9  33.   33.1  33.2  33.3  33.4  33.5\n",
      "  33.6  33.7  33.8  33.9  34.   34.1  34.2  34.3  34.4  34.5  34.6  34.7\n",
      "  34.8  34.9  35.   35.1  35.2  35.3  35.4  35.5  35.6  35.7  35.8  35.9\n",
      "  36.   36.1  36.2  36.3  36.4  36.5  36.6  36.7  36.8  36.9  37.   37.1\n",
      "  37.2  37.3  37.4  37.5  37.6  37.7  37.8  37.9  38.   38.1  38.2  38.3\n",
      "  38.4  38.5  38.6  38.7  38.8  38.9  39.   39.1  39.2  39.3  39.4  39.5\n",
      "  39.6  39.7  39.8  39.9  40.   40.1  40.2  40.3  40.4  40.5  40.6  40.7\n",
      "  40.8  40.9  41.   41.1  41.2  41.3  41.4  41.5  41.6  41.7  41.8  41.9\n",
      "  42.   42.1  42.2  42.3  42.4  42.5  42.6  42.7  42.8  42.9  43.   43.1\n",
      "  43.2  43.3  43.4  43.5  43.6  43.7  43.8  43.9  44.   44.1  44.2  44.3\n",
      "  44.4  44.5  44.6  44.7  44.8  44.9  45.   45.1  45.2  45.3  45.4  45.5\n",
      "  45.6  45.7  45.8  45.9  46.   46.1  46.2  46.3  46.4  46.5  46.6  46.7\n",
      "  46.8  46.9  47.   47.1  47.2  47.3  47.4  47.5  47.6  47.7  47.8  47.9\n",
      "  48.   48.1  48.2  48.3  48.4  48.5  48.6  48.7  48.8  48.9  49.   49.1\n",
      "  49.2  49.3  49.4  49.5  49.6  49.7  49.8  49.9 -50.  -49.9 -49.8 -49.7\n",
      " -49.6 -49.5 -49.4 -49.3 -49.2 -49.1 -49.  -48.9 -48.8 -48.7 -48.6 -48.5\n",
      " -48.4 -48.3 -48.2 -48.1 -48.  -47.9 -47.8 -47.7 -47.6 -47.5 -47.4 -47.3\n",
      " -47.2 -47.1 -47.  -46.9 -46.8 -46.7 -46.6 -46.5 -46.4 -46.3 -46.2 -46.1\n",
      " -46.  -45.9 -45.8 -45.7 -45.6 -45.5 -45.4 -45.3 -45.2 -45.1 -45.  -44.9\n",
      " -44.8 -44.7 -44.6 -44.5 -44.4 -44.3 -44.2 -44.1 -44.  -43.9 -43.8 -43.7\n",
      " -43.6 -43.5 -43.4 -43.3 -43.2 -43.1 -43.  -42.9 -42.8 -42.7 -42.6 -42.5\n",
      " -42.4 -42.3 -42.2 -42.1 -42.  -41.9 -41.8 -41.7 -41.6 -41.5 -41.4 -41.3\n",
      " -41.2 -41.1 -41.  -40.9 -40.8 -40.7 -40.6 -40.5 -40.4 -40.3 -40.2 -40.1\n",
      " -40.  -39.9 -39.8 -39.7 -39.6 -39.5 -39.4 -39.3 -39.2 -39.1 -39.  -38.9\n",
      " -38.8 -38.7 -38.6 -38.5 -38.4 -38.3 -38.2 -38.1 -38.  -37.9 -37.8 -37.7\n",
      " -37.6 -37.5 -37.4 -37.3 -37.2 -37.1 -37.  -36.9 -36.8 -36.7 -36.6 -36.5\n",
      " -36.4 -36.3 -36.2 -36.1 -36.  -35.9 -35.8 -35.7 -35.6 -35.5 -35.4 -35.3\n",
      " -35.2 -35.1 -35.  -34.9 -34.8 -34.7 -34.6 -34.5 -34.4 -34.3 -34.2 -34.1\n",
      " -34.  -33.9 -33.8 -33.7 -33.6 -33.5 -33.4 -33.3 -33.2 -33.1 -33.  -32.9\n",
      " -32.8 -32.7 -32.6 -32.5 -32.4 -32.3 -32.2 -32.1 -32.  -31.9 -31.8 -31.7\n",
      " -31.6 -31.5 -31.4 -31.3 -31.2 -31.1 -31.  -30.9 -30.8 -30.7 -30.6 -30.5\n",
      " -30.4 -30.3 -30.2 -30.1 -30.  -29.9 -29.8 -29.7 -29.6 -29.5 -29.4 -29.3\n",
      " -29.2 -29.1 -29.  -28.9 -28.8 -28.7 -28.6 -28.5 -28.4 -28.3 -28.2 -28.1\n",
      " -28.  -27.9 -27.8 -27.7 -27.6 -27.5 -27.4 -27.3 -27.2 -27.1 -27.  -26.9\n",
      " -26.8 -26.7 -26.6 -26.5 -26.4 -26.3 -26.2 -26.1 -26.  -25.9 -25.8 -25.7\n",
      " -25.6 -25.5 -25.4 -25.3 -25.2 -25.1 -25.  -24.9 -24.8 -24.7 -24.6 -24.5\n",
      " -24.4 -24.3 -24.2 -24.1 -24.  -23.9 -23.8 -23.7 -23.6 -23.5 -23.4 -23.3\n",
      " -23.2 -23.1 -23.  -22.9 -22.8 -22.7 -22.6 -22.5 -22.4 -22.3 -22.2 -22.1\n",
      " -22.  -21.9 -21.8 -21.7 -21.6 -21.5 -21.4 -21.3 -21.2 -21.1 -21.  -20.9\n",
      " -20.8 -20.7 -20.6 -20.5 -20.4 -20.3 -20.2 -20.1 -20.  -19.9 -19.8 -19.7\n",
      " -19.6 -19.5 -19.4 -19.3 -19.2 -19.1 -19.  -18.9 -18.8 -18.7 -18.6 -18.5\n",
      " -18.4 -18.3 -18.2 -18.1 -18.  -17.9 -17.8 -17.7 -17.6 -17.5 -17.4 -17.3\n",
      " -17.2 -17.1 -17.  -16.9 -16.8 -16.7 -16.6 -16.5 -16.4 -16.3 -16.2 -16.1\n",
      " -16.  -15.9 -15.8 -15.7 -15.6 -15.5 -15.4 -15.3 -15.2 -15.1 -15.  -14.9\n",
      " -14.8 -14.7 -14.6 -14.5 -14.4 -14.3 -14.2 -14.1 -14.  -13.9 -13.8 -13.7\n",
      " -13.6 -13.5 -13.4 -13.3 -13.2 -13.1 -13.  -12.9 -12.8 -12.7 -12.6 -12.5\n",
      " -12.4 -12.3 -12.2 -12.1 -12.  -11.9 -11.8 -11.7 -11.6 -11.5 -11.4 -11.3\n",
      " -11.2 -11.1 -11.  -10.9 -10.8 -10.7 -10.6 -10.5 -10.4 -10.3 -10.2 -10.1\n",
      " -10.   -9.9  -9.8  -9.7  -9.6  -9.5  -9.4  -9.3  -9.2  -9.1  -9.   -8.9\n",
      "  -8.8  -8.7  -8.6  -8.5  -8.4  -8.3  -8.2  -8.1  -8.   -7.9  -7.8  -7.7\n",
      "  -7.6  -7.5  -7.4  -7.3  -7.2  -7.1  -7.   -6.9  -6.8  -6.7  -6.6  -6.5\n",
      "  -6.4  -6.3  -6.2  -6.1  -6.   -5.9  -5.8  -5.7  -5.6  -5.5  -5.4  -5.3\n",
      "  -5.2  -5.1  -5.   -4.9  -4.8  -4.7  -4.6  -4.5  -4.4  -4.3  -4.2  -4.1\n",
      "  -4.   -3.9  -3.8  -3.7  -3.6  -3.5  -3.4  -3.3  -3.2  -3.1  -3.   -2.9\n",
      "  -2.8  -2.7  -2.6  -2.5  -2.4  -2.3  -2.2  -2.1  -2.   -1.9  -1.8  -1.7\n",
      "  -1.6  -1.5  -1.4  -1.3  -1.2  -1.1  -1.   -0.9  -0.8  -0.7  -0.6  -0.5\n",
      "  -0.4  -0.3  -0.2  -0.1]\n"
     ]
    }
   ],
   "source": [
    "freqs = fftpack.fftfreq(len(x)) * fs\n",
    "print(freqs)\n",
    "\n",
    "#print(fftpack.fftfreq(len(x)))\n"
   ]
  },
  {
   "cell_type": "markdown",
   "metadata": {},
   "source": [
    "OK, now we're set!  "
   ]
  },
  {
   "cell_type": "code",
   "execution_count": 40,
   "metadata": {},
   "outputs": [
    {
     "data": {
      "text/plain": [
       "Text(0,0.5,'Fourier transform of signal')"
      ]
     },
     "execution_count": 40,
     "metadata": {},
     "output_type": "execute_result"
    },
    {
     "data": {
      "image/png": "[encoded data removed]",
      "text/plain": [
       "<matplotlib.figure.Figure at 0x1c216514e0>"
      ]
     },
     "metadata": {},
     "output_type": "display_data"
    }
   ],
   "source": [
    "fig, ax = plt.subplots()\n",
    "\n",
    "ax.stem(freqs, np.abs(X))\n",
    "ax.set_xlabel('Frequency in Hertz [Hz]')\n",
    "ax.set_ylabel('Magnitude')\n",
    "#ax.set_xlim(-fs/2, fs/2)\n",
    "ax.set_xlim(-10, 10)\n",
    "ax.set_ylim(-5, 300)\n",
    "ax.set_ylabel('Fourier transform of signal')\n"
   ]
  },
  {
   "cell_type": "markdown",
   "metadata": {},
   "source": [
    "***In-class exercise: Fourier transform of a square wave. Compute a spectrum for the square wave you defined in the Review Questions.***\n",
    "\n",
    "---"
   ]
  },
  {
   "cell_type": "markdown",
   "metadata": {},
   "source": [
    "## From spectrum to spectrogram\n",
    "\n",
    "Let's have some fun with [Japanese vowels](http://www.phonetics.ucla.edu/course/chapter9/japanese/japanese.html) from soundfiles collected by Peter Ladefoged. First we'll use `librosa` to load an audio recording of [ma]. And just for kicks, let's listen to it resampled at different sampling rates."
   ]
  },
  {
   "cell_type": "code",
   "execution_count": null,
   "metadata": {
    "collapsed": true
   },
   "outputs": [],
   "source": [
    "y, sr = librosa.load(\"ma.aiff\", sr = None)\n",
    "print(type(y)) # Note that it is a numpy array\n",
    "print(\"The sampling rate is: \", sr, \"Hz\")\n",
    "\n",
    "\n",
    "y_8k = librosa.resample(y, sr, 8000)\n",
    "y_2k = librosa.resample(y, sr, 2000)\n",
    "y_500 = librosa.resample(y, sr, 500)\n",
    "\n",
    "display(Audio(data=y,rate = sr))\n",
    "display(Audio(data=y_8k,rate = 8000))\n",
    "display(Audio(data=y_2k,rate = 2000))\n",
    "display(Audio(data=y_500,rate = 500))\n"
   ]
  },
  {
   "cell_type": "markdown",
   "metadata": {},
   "source": [
    "---\n",
    "***In-class exercise: compute the spectrum of [a] in the recording.***\n",
    "\n",
    "1. Plot the waveform, and use the waveform to determine what part of the recording has a steady-state [a]. \n",
    "2. Now that you've determined that, work with just that portion of the signal for computing the spectrum.\n",
    "3. Try computing the spectrum for the [a] sampled at different sampling rates. How does this affect what you see in the resulting spectrum, if at all?\n",
    "4. Do your computed spectra look as expected, given what you know about formants? You might try computing spectra for the other vowel samples at the webpage, too, e.g., [o], [i], etc."
   ]
  },
  {
   "cell_type": "markdown",
   "metadata": {},
   "source": [
    "---\n",
    "\n",
    "Now let's work towards computing the spectrogram for the audio file. First let's plot the waveform of the audio file.\n",
    "\n",
    "***Discussion: do you notice a technical problem with the recording revealed from plotting the waveform?***"
   ]
  },
  {
   "cell_type": "code",
   "execution_count": null,
   "metadata": {
    "collapsed": true
   },
   "outputs": [],
   "source": [
    "N = y.shape[0]\n",
    "L = N / sr\n",
    "\n",
    "print(f'Audio length: {L:.2f} seconds')\n",
    "\n",
    "f, ax = plt.subplots()\n",
    "ax.plot(np.arange(N) / sr, y)\n",
    "ax.set_xlabel('Time [s]')\n",
    "ax.set_ylabel('Amplitude [unknown]');"
   ]
  },
  {
   "cell_type": "markdown",
   "metadata": {},
   "source": [
    "We can compute a spectrogram using [spectral analysis tools provided by `scipy.signal`](https://github.com/scipy/scipy/blob/master/scipy/signal/spectral.py), namely, `scipy.signal.spectrogram`."
   ]
  },
  {
   "cell_type": "code",
   "execution_count": null,
   "metadata": {
    "collapsed": true
   },
   "outputs": [],
   "source": [
    "help(signal.spectrogram)"
   ]
  },
  {
   "cell_type": "markdown",
   "metadata": {},
   "source": [
    "We can use the example code from the help file to try to compute the spectrogram for [ma].\n",
    "\n",
    "***Discussion: Does the spectrogram look as you expect? Fiddle with the settings of the plot as suits you. Also try using the code from [Elegant SciPy](https://www.safaribooksonline.com/library/view/elegant-scipy/9781491922927/ch04.html) used to produce figure 4-4. How does that look? Compare your computed spectrograms to the ones you get when you analyze the [ma] file in Praat.***"
   ]
  },
  {
   "cell_type": "code",
   "execution_count": null,
   "metadata": {
    "collapsed": true
   },
   "outputs": [],
   "source": [
    "f,t, Sxx = signal.spectrogram(y,sr)\n",
    "plt.pcolormesh(t, f, Sxx)\n",
    "plt.ylabel('Frequency [Hz]')\n",
    "plt.xlabel('Time [sec]')"
   ]
  },
  {
   "cell_type": "markdown",
   "metadata": {},
   "source": [
    "To better understand how scipy.signal.spectrogram works, let's look at how it is defined. We can do this [using the `inspect` module](https://stackoverflow.com/questions/427453/how-can-i-get-the-source-code-of-a-python-function#427533). We can also look at [the code on github](https://github.com/scipy/scipy/blob/master/scipy/signal/spectral.py), which is a little prettier."
   ]
  },
  {
   "cell_type": "code",
   "execution_count": null,
   "metadata": {
    "collapsed": true
   },
   "outputs": [],
   "source": [
    "import inspect\n",
    "lines = inspect.getsourcelines(signal.spectrogram)\n",
    "print(\"\".join(lines[0]))"
   ]
  },
  {
   "cell_type": "markdown",
   "metadata": {},
   "source": [
    "Well that's not that helpful. Looks like we need to take a look at `signal._spectral_helper`, which we can look at in the github code."
   ]
  },
  {
   "cell_type": "code",
   "execution_count": null,
   "metadata": {
    "collapsed": true
   },
   "outputs": [],
   "source": [
    "# This doesn't work!\n",
    "#lines = inspect.getsourcelines(signal.spectral_helper)\n",
    "#print(\"\".join(lines[0]))"
   ]
  },
  {
   "cell_type": "markdown",
   "metadata": {},
   "source": [
    "Now let's use the code from [Elegant Scipy](https://www.safaribooksonline.com/library/view/elegant-scipy/9781491922927/ch04.html) used to produce Figure 4.3, which breaks down spectrogram computation step by step."
   ]
  },
  {
   "cell_type": "code",
   "execution_count": null,
   "metadata": {
    "collapsed": true
   },
   "outputs": [],
   "source": [
    "from skimage import util\n",
    "\n",
    "M = 1024\n",
    "\n",
    "slices = util.view_as_windows(y, window_shape=(M,), step=100)\n",
    "print(f'Audio shape: {y.shape}, Sliced audio shape: {slices.shape}')\n",
    "\n",
    "win = np.hanning(M + 1)[:-1]\n",
    "slices = slices * win\n",
    "\n",
    "slices = slices.T\n",
    "print('Shape of `slices`:', slices.shape)\n",
    "\n",
    "spectrum = np.fft.fft(slices, axis=0)[:M // 2 + 1:-1]\n",
    "spectrum = np.abs(spectrum)"
   ]
  },
  {
   "cell_type": "code",
   "execution_count": null,
   "metadata": {
    "collapsed": true
   },
   "outputs": [],
   "source": [
    "f, ax = plt.subplots(figsize=(4.8, 2.4))\n",
    "\n",
    "S = np.abs(spectrum)\n",
    "S = 20 * np.log10(S / np.max(S))\n",
    "\n",
    "ax.imshow(S, origin='lower', cmap='viridis',\n",
    "          extent=(0, L, 0, sr / 2 / 1000))\n",
    "ax.axis('tight')\n",
    "ax.set_ylabel('Frequency [kHz]')\n",
    "ax.set_xlabel('Time [s]');"
   ]
  },
  {
   "cell_type": "markdown",
   "metadata": {},
   "source": [
    "## Working through DFT, FFT\n",
    "\n",
    "Finally, let's work through the [Elegant Scipy](https://www.safaribooksonline.com/library/view/elegant-scipy/9781491922927/ch04.html) material on DFT and FFT together. This is the section that starts after Figure 4.4."
   ]
  }
 ],
 "metadata": {
  "kernelspec": {
   "display_name": "Python 3",
   "language": "python",
   "name": "python3"
  },
  "language_info": {
   "codemirror_mode": {
    "name": "ipython",
    "version": 3
   },
   "file_extension": ".py",
   "mimetype": "text/x-python",
   "name": "python",
   "nbconvert_exporter": "python",
   "pygments_lexer": "ipython3",
   "version": "3.6.3"
  }
 },
 "nbformat": 4,
 "nbformat_minor": 2
}
